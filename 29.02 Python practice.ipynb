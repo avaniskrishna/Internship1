{
 "cells": [
  {
   "cell_type": "markdown",
   "id": "7bd1f76b",
   "metadata": {},
   "source": [
    "## Python program to add two numbers"
   ]
  },
  {
   "cell_type": "code",
   "execution_count": 4,
   "id": "782461a7",
   "metadata": {},
   "outputs": [
    {
     "name": "stdout",
     "output_type": "stream",
     "text": [
      "Enter any number first: 678\n",
      "Enter any number second: 875\n",
      "1553\n"
     ]
    }
   ],
   "source": [
    "a= int(input(\"Enter any number first: \"))\n",
    "b= int(input(\"Enter any number second: \"))\n",
    "\n",
    "output= a+b\n",
    "print(output)"
   ]
  },
  {
   "cell_type": "markdown",
   "id": "67cd8d7a",
   "metadata": {},
   "source": [
    "## Maximum of two number in python"
   ]
  },
  {
   "cell_type": "code",
   "execution_count": 8,
   "id": "39517571",
   "metadata": {},
   "outputs": [
    {
     "name": "stdout",
     "output_type": "stream",
     "text": [
      "Enter any number first: 9\n",
      "Enter any number second: 8\n",
      "9\n"
     ]
    }
   ],
   "source": [
    "a= int(input(\"Enter any number first: \"))\n",
    "b= int(input(\"Enter any number second: \"))\n",
    "\n",
    "output= max(a,b)\n",
    "print(output)"
   ]
  },
  {
   "cell_type": "markdown",
   "id": "ab16e0ce",
   "metadata": {},
   "source": [
    "## Python program for factorial of a number"
   ]
  },
  {
   "cell_type": "code",
   "execution_count": 19,
   "id": "c1f36602",
   "metadata": {},
   "outputs": [
    {
     "name": "stdout",
     "output_type": "stream",
     "text": [
      "Enter any number to find the factorial: 6\n",
      "Factorial of 6 is 720\n"
     ]
    }
   ],
   "source": [
    "import math\n",
    "def factorial(n):\n",
    "    return(math.factorial(n))\n",
    " \n",
    "number = int(input(\"Enter any number to find the factorial: \"))\n",
    "print(\"Factorial of\", number, \"is\",factorial(number))"
   ]
  },
  {
   "cell_type": "markdown",
   "id": "0aafc0c5",
   "metadata": {},
   "source": [
    "## Python program for simple interest"
   ]
  },
  {
   "cell_type": "code",
   "execution_count": 42,
   "id": "52224d37",
   "metadata": {},
   "outputs": [
    {
     "name": "stdout",
     "output_type": "stream",
     "text": [
      "The simple interest is, 800.0\n"
     ]
    },
    {
     "data": {
      "text/plain": [
       "800.0"
      ]
     },
     "execution_count": 42,
     "metadata": {},
     "output_type": "execute_result"
    }
   ],
   "source": [
    "def simple_interest(P,t,r):\n",
    "    SI= (P*r*t)/100\n",
    "    \n",
    "    #print(\"The principal amount is: \", P)\n",
    "    #print(\"The annual rate of interest is: \", r)\n",
    "    #print(\"The time period is: \",t)\n",
    "    \n",
    "    print(\"The simple interest is,\",SI)\n",
    "    return SI\n",
    "\n",
    "P= 5000 \n",
    "r= 8 \n",
    "t= 2 \n",
    "simple_interest(P,t,r)   "
   ]
  },
  {
   "cell_type": "markdown",
   "id": "eb34d192",
   "metadata": {},
   "source": [
    "## Python program for compound interest"
   ]
  },
  {
   "cell_type": "code",
   "execution_count": 40,
   "id": "4c537f60",
   "metadata": {},
   "outputs": [
    {
     "name": "stdout",
     "output_type": "stream",
     "text": [
      "Compound interest is 2883.911680000003\n"
     ]
    }
   ],
   "source": [
    "def compound_interest(P, r, t):\n",
    " \n",
    "    # Calculates compound interest\n",
    "    A = P * (pow((1 + r / 100), t))\n",
    "    CI = A - P\n",
    "    print(\"Compound interest is\", CI)\n",
    " \n",
    " \n",
    "# Driver Code\n",
    "compound_interest(8000, 8, 4)"
   ]
  },
  {
   "cell_type": "markdown",
   "id": "7b9bf9dc",
   "metadata": {},
   "source": [
    "## Program to find area of circle"
   ]
  },
  {
   "cell_type": "code",
   "execution_count": 54,
   "id": "8a08ef4c",
   "metadata": {},
   "outputs": [
    {
     "name": "stdout",
     "output_type": "stream",
     "text": [
      "Area of circle is: 314.1592653589793\n"
     ]
    }
   ],
   "source": [
    "import math\n",
    "\n",
    "def area(r):\n",
    "  area = math.pi* pow(r,2)\n",
    "\n",
    "  return print('Area of circle is:' ,area)\n",
    "area(10)"
   ]
  },
  {
   "cell_type": "markdown",
   "id": "958064d3",
   "metadata": {},
   "source": [
    "## Check whether number is prime or not"
   ]
  },
  {
   "cell_type": "code",
   "execution_count": 58,
   "id": "8a96bb2b",
   "metadata": {},
   "outputs": [
    {
     "name": "stdout",
     "output_type": "stream",
     "text": [
      "Enter a number to check if it's prime: 5\n",
      "5 is a prime number.\n"
     ]
    }
   ],
   "source": [
    "def is_prime(num):\n",
    "    if num <= 1:\n",
    "        return False\n",
    "    for i in range(2, int(num**0.5) + 1):\n",
    "        if num % i == 0:\n",
    "            return False\n",
    "    return True\n",
    "\n",
    "number = int(input(\"Enter a number to check if it's prime: \"))\n",
    "\n",
    "if is_prime(number):\n",
    "    print(f\"{number} is a prime number.\")\n",
    "else:\n",
    "    print(f\"{number} is not a prime number.\")"
   ]
  },
  {
   "cell_type": "markdown",
   "id": "fd7aac81",
   "metadata": {},
   "source": [
    "## Python program for n-th fibonacci number"
   ]
  },
  {
   "cell_type": "code",
   "execution_count": 60,
   "id": "dc2d4723",
   "metadata": {},
   "outputs": [
    {
     "name": "stdout",
     "output_type": "stream",
     "text": [
      "Enter the value of n to find the nth Fibonacci number: 4\n",
      "The 4 th Fibonacci number is :  3\n"
     ]
    }
   ],
   "source": [
    "def fibonacci(n):\n",
    "    if n <= 1:\n",
    "        return n\n",
    "    else:\n",
    "        return fibonacci(n-1) + fibonacci(n-2)\n",
    "\n",
    "n = int(input(\"Enter the value of n to find the nth Fibonacci number: \"))\n",
    "\n",
    "if n < 0:\n",
    "    print(\"Enter a non-negative integer.\")\n",
    "else:\n",
    "    print(f\"The\" ,n,\"th Fibonacci number is : \",fibonacci(n))"
   ]
  },
  {
   "cell_type": "markdown",
   "id": "f08a0430",
   "metadata": {},
   "source": [
    "## Program to check Armstrong number"
   ]
  },
  {
   "cell_type": "code",
   "execution_count": null,
   "id": "9d55de47",
   "metadata": {},
   "outputs": [],
   "source": [
    "# help taken"
   ]
  },
  {
   "cell_type": "code",
   "execution_count": 50,
   "id": "90f96c2f",
   "metadata": {},
   "outputs": [
    {
     "name": "stdout",
     "output_type": "stream",
     "text": [
      "Enter any number: 153\n",
      "True\n"
     ]
    }
   ],
   "source": [
    "def is_armstrong(num):\n",
    "    num_str = str(num)\n",
    "    n = len(num_str)\n",
    "    sum = 0\n",
    "    for digit in num_str:\n",
    "        sum += int(digit)**n\n",
    "    if sum == num:\n",
    "        return True\n",
    "    else:\n",
    "        return False\n",
    "num = int(input(\"Enter any number: \"))\n",
    "print(is_armstrong(num))"
   ]
  },
  {
   "cell_type": "markdown",
   "id": "abfe6378",
   "metadata": {},
   "source": [
    "## Print all prime numbers in an interval"
   ]
  },
  {
   "cell_type": "code",
   "execution_count": null,
   "id": "16b2a828",
   "metadata": {},
   "outputs": [],
   "source": [
    "# help taken"
   ]
  },
  {
   "cell_type": "code",
   "execution_count": 63,
   "id": "55e8af20",
   "metadata": {},
   "outputs": [
    {
     "name": "stdout",
     "output_type": "stream",
     "text": [
      "Enter the start of the interval: 2\n",
      "Enter the end of the interval: 10\n",
      "Prime numbers between 2 and 10\n",
      "2\n",
      "3\n",
      "5\n",
      "7\n"
     ]
    }
   ],
   "source": [
    "def prime(num):\n",
    "    if num <= 1:\n",
    "        return False\n",
    "    for i in range(2, int(num**0.5) + 1):\n",
    "        if num % i == 0:\n",
    "            return False\n",
    "    return True\n",
    "\n",
    "def prime_in_interval(start, end):\n",
    "    print(f\"Prime numbers between {start} and {end}:\")\n",
    "    for num in range(start, end + 1):\n",
    "        if is_prime(num):\n",
    "            print(num)\n",
    "\n",
    "start = int(input(\"Enter the start of the interval: \"))\n",
    "end = int(input(\"Enter the end of the interval: \"))\n",
    "prime_in_interval(start, end)"
   ]
  }
 ],
 "metadata": {
  "kernelspec": {
   "display_name": "Python 3 (ipykernel)",
   "language": "python",
   "name": "python3"
  },
  "language_info": {
   "codemirror_mode": {
    "name": "ipython",
    "version": 3
   },
   "file_extension": ".py",
   "mimetype": "text/x-python",
   "name": "python",
   "nbconvert_exporter": "python",
   "pygments_lexer": "ipython3",
   "version": "3.9.12"
  }
 },
 "nbformat": 4,
 "nbformat_minor": 5
}
