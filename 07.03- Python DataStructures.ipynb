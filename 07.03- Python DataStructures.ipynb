{
 "cells": [
  {
   "cell_type": "markdown",
   "id": "72fb90dd",
   "metadata": {},
   "source": [
    "## 1) Write a python program to flatten tuple of list to tuple "
   ]
  },
  {
   "cell_type": "code",
   "execution_count": 9,
   "id": "7df820fa",
   "metadata": {},
   "outputs": [
    {
     "name": "stdout",
     "output_type": "stream",
     "text": [
      "The original tuple: ([1, 2], [3, 4, 5, 6], [7])\n",
      "The flattened tuple : (1, 2, 3, 4, 5, 6, 7)\n"
     ]
    }
   ],
   "source": [
    "import itertools\n",
    "tuple_of_list = ([1, 2], [3, 4, 5, 6], [7])\n",
    "print(\"The original tuple: \" + str(tuple_of_list))\n",
    "output = tuple(itertools.chain(*tuple_of_list))\n",
    "print(\"The flattened tuple : \" + str(output))\n",
    "\n",
    "#taken help from G4G site"
   ]
  },
  {
   "cell_type": "markdown",
   "id": "3f37f518",
   "metadata": {},
   "source": [
    "## 2) Program to convert set into tuple and tuple into set"
   ]
  },
  {
   "cell_type": "code",
   "execution_count": 14,
   "id": "1d7946a4",
   "metadata": {},
   "outputs": [
    {
     "name": "stdout",
     "output_type": "stream",
     "text": [
      "The tuple converted from set:  (1, 2, 3, 4, 5)\n",
      "The final set converted from tuple:  {6, 7, 8, 9, 10}\n"
     ]
    }
   ],
   "source": [
    "def set_to_tuple(input_set):\n",
    "    return tuple(input_set)\n",
    "input_set = {1, 2, 3, 4, 5}\n",
    "converted_tuple = set_to_tuple(input_set)\n",
    "print(\"The tuple converted from set: \", converted_tuple)\n",
    "\n",
    "def tuple_to_set(input_tuple):\n",
    "    return set(input_tuple)\n",
    "input_tuple = (6, 7, 8, 9, 10)\n",
    "converted_set = tuple_to_set(input_tuple)\n",
    "print(\"The final set converted from tuple: \", converted_set)\n"
   ]
  },
  {
   "cell_type": "markdown",
   "id": "59900b0e",
   "metadata": {},
   "source": [
    "## 3) Convert list of dictionary to Tuple list python"
   ]
  },
  {
   "cell_type": "code",
   "execution_count": 17,
   "id": "ad7a6192",
   "metadata": {},
   "outputs": [
    {
     "name": "stdout",
     "output_type": "stream",
     "text": [
      "[(('name', 'Riya'), ('age', 20)), (('name', 'Diya'), ('age', 15)), (('name', 'Siya'), ('age', 19))]\n"
     ]
    }
   ],
   "source": [
    "def listofdict_to_listoftuple(dict_list):\n",
    "    tuple_list = []\n",
    "    for dictionary in dict_list:\n",
    "        tuple_list.append(tuple(dictionary.items()))         #help taken from G4G site\n",
    "    return tuple_list\n",
    "\n",
    "# Example usage\n",
    "list_of_dicts = [\n",
    "    {'name': 'Riya', 'age': 20},\n",
    "    {'name': 'Diya', 'age': 15},\n",
    "    {'name': 'Siya', 'age': 19}\n",
    "]\n",
    "\n",
    "tuple_list = listofdict_to_listoftuple(list_of_dicts)\n",
    "print(tuple_list)\n"
   ]
  },
  {
   "cell_type": "markdown",
   "id": "ed00b3b2",
   "metadata": {},
   "source": [
    "## 4) Sort tuple list Nth element of tuple"
   ]
  },
  {
   "cell_type": "code",
   "execution_count": 16,
   "id": "e145eb68",
   "metadata": {},
   "outputs": [
    {
     "name": "stdout",
     "output_type": "stream",
     "text": [
      "[(4, 1, 2), (3, 2, 4), (2, 3, 1), (1, 5, 3)]\n"
     ]
    }
   ],
   "source": [
    "\n",
    "def sort_tuplelist(tuple_list, n):\n",
    "    return sorted(tuple_list, key=lambda x: x[n])\n",
    "\n",
    "tuple_list = [(1, 5, 3), (2, 3, 1), (3, 2, 4), (4, 1, 2)]\n",
    "sorted_list = sort_tuplelist(tuple_list, 1)  \n",
    "\n",
    "print(sorted_list)\n"
   ]
  },
  {
   "cell_type": "markdown",
   "id": "f9700b6e",
   "metadata": {},
   "source": [
    "## 5) Program to find tuple indices from other tuple list"
   ]
  },
  {
   "cell_type": "code",
   "execution_count": 18,
   "id": "d869f324",
   "metadata": {},
   "outputs": [
    {
     "name": "stdout",
     "output_type": "stream",
     "text": [
      "Indices of matching tuples: [1, 2]\n"
     ]
    }
   ],
   "source": [
    "def find_tuple_indices(tuple_list, search_list):\n",
    "    indices = []\n",
    "    for item in search_list:\n",
    "        try:\n",
    "            index = tuple_list.index(item)\n",
    "            indices.append(index)\n",
    "        except ValueError:\n",
    "            pass  # Ignore if tuple not found\n",
    "    return indices\n",
    "\n",
    "# Example usage\n",
    "tuple_list = [(1, 2), (3, 4), (5, 6), (7, 8)]\n",
    "search_list = [(3, 4), (5, 6)]\n",
    "\n",
    "indices = find_tuple_indices(tuple_list, search_list)\n",
    "print(\"Indices of matching tuples:\", indices)\n",
    "\n",
    "\n",
    "#took help from chatgpt"
   ]
  },
  {
   "cell_type": "markdown",
   "id": "fcb98e2c",
   "metadata": {},
   "source": [
    "## 6) Convert dictionary value list to dictionary list python"
   ]
  },
  {
   "cell_type": "code",
   "execution_count": 21,
   "id": "94154a9d",
   "metadata": {},
   "outputs": [
    {
     "name": "stdout",
     "output_type": "stream",
     "text": [
      "[{'key1': 1}, {'key1': 2}, {'key1': 3}, {'key2': 'a'}, {'key2': 'b'}, {'key2': 'c'}, {'key3': 'x'}, {'key3': 'y'}, {'key3': 'z'}]\n"
     ]
    }
   ],
   "source": [
    "original_dictionary = {\n",
    "    'key1': [1, 2, 3],\n",
    "    'key2': ['a', 'b', 'c'],\n",
    "    'key3': ['x', 'y', 'z']\n",
    "}\n",
    "\n",
    "listofdict = []\n",
    "\n",
    "for key, values in original_dictionary.items():\n",
    "    for value in values:\n",
    "        new_dict = {key: value}\n",
    "        listofdict.append(new_dict)\n",
    "\n",
    "print(listofdict)\n"
   ]
  }
 ],
 "metadata": {
  "kernelspec": {
   "display_name": "Python 3 (ipykernel)",
   "language": "python",
   "name": "python3"
  },
  "language_info": {
   "codemirror_mode": {
    "name": "ipython",
    "version": 3
   },
   "file_extension": ".py",
   "mimetype": "text/x-python",
   "name": "python",
   "nbconvert_exporter": "python",
   "pygments_lexer": "ipython3",
   "version": "3.9.12"
  }
 },
 "nbformat": 4,
 "nbformat_minor": 5
}
